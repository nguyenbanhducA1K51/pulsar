{
 "cells": [
  {
   "cell_type": "markdown",
   "id": "52fad66c",
   "metadata": {},
   "source": [
    "# Pulsars Notebook\n",
    "## Abstract\n",
    "Pulsars are a rare type of Neutron star that produce radio emission detectable here on Earth. They are of considerable scientific interest as probes of space-time, the inter-stellar medium, and states of matter. Machine learning tools are now being used to automatically label pulsar candidates to facilitate rapid analysis. Classification systems in particular are being widely adopted,which treat the candidate data sets as binary classification problems.\n",
    "## Purpose\n",
    "This note book is aim to analyze the Pulsars dataset and latter employ different ML technique to effectively classify stars into pulsar and non-pulsar classes\n",
    "\n",
    "## Import Library and preprocess the data"
   ]
  },
  {
   "cell_type": "code",
   "execution_count": 9,
   "id": "c9224cea",
   "metadata": {},
   "outputs": [],
   "source": [
    "import pandas as pd\n",
    "import pandas as pd \n",
    "import seaborn as sns \n",
    "import matplotlib.pyplot as plt\n",
    "\n",
    "pulsars = pd.read_csv('./HTRU_2.csv')\n",
    "pulsars.columns=['Mean of IP','sd of IP','Excess kurtosis of IP'\n",
    "                ,'Skewness of IP','Mean of  DM-SNR ',\n",
    "                'sd of DM-SNR ','Excess kurtosis of  DM-SNR '\n",
    "                ,'Skewness of DM-SNR ','Class HTRU ']\n"
   ]
  },
  {
   "cell_type": "markdown",
   "id": "06ca80e6",
   "metadata": {},
   "source": [
    "## Visualize the data"
   ]
  },
  {
   "cell_type": "code",
   "execution_count": 5,
   "id": "31ac9c9b",
   "metadata": {},
   "outputs": [
    {
     "data": {
      "text/html": [
       "<div>\n",
       "<style scoped>\n",
       "    .dataframe tbody tr th:only-of-type {\n",
       "        vertical-align: middle;\n",
       "    }\n",
       "\n",
       "    .dataframe tbody tr th {\n",
       "        vertical-align: top;\n",
       "    }\n",
       "\n",
       "    .dataframe thead th {\n",
       "        text-align: right;\n",
       "    }\n",
       "</style>\n",
       "<table border=\"1\" class=\"dataframe\">\n",
       "  <thead>\n",
       "    <tr style=\"text-align: right;\">\n",
       "      <th></th>\n",
       "      <th>Mean of IP</th>\n",
       "      <th>sd of IP</th>\n",
       "      <th>Excess kurtosis of IP</th>\n",
       "      <th>Skewness of IP</th>\n",
       "      <th>Mean of  DM-SNR</th>\n",
       "      <th>sd of DM-SNR</th>\n",
       "      <th>Excess kurtosis of  DM-SNR</th>\n",
       "      <th>Skewness of DM-SNR</th>\n",
       "      <th>Class HTRU</th>\n",
       "    </tr>\n",
       "  </thead>\n",
       "  <tbody>\n",
       "    <tr>\n",
       "      <th>0</th>\n",
       "      <td>102.507812</td>\n",
       "      <td>58.882430</td>\n",
       "      <td>0.465318</td>\n",
       "      <td>-0.515088</td>\n",
       "      <td>1.677258</td>\n",
       "      <td>14.860146</td>\n",
       "      <td>10.576487</td>\n",
       "      <td>127.393580</td>\n",
       "      <td>0</td>\n",
       "    </tr>\n",
       "    <tr>\n",
       "      <th>1</th>\n",
       "      <td>103.015625</td>\n",
       "      <td>39.341649</td>\n",
       "      <td>0.323328</td>\n",
       "      <td>1.051164</td>\n",
       "      <td>3.121237</td>\n",
       "      <td>21.744669</td>\n",
       "      <td>7.735822</td>\n",
       "      <td>63.171909</td>\n",
       "      <td>0</td>\n",
       "    </tr>\n",
       "    <tr>\n",
       "      <th>2</th>\n",
       "      <td>136.750000</td>\n",
       "      <td>57.178449</td>\n",
       "      <td>-0.068415</td>\n",
       "      <td>-0.636238</td>\n",
       "      <td>3.642977</td>\n",
       "      <td>20.959280</td>\n",
       "      <td>6.896499</td>\n",
       "      <td>53.593661</td>\n",
       "      <td>0</td>\n",
       "    </tr>\n",
       "    <tr>\n",
       "      <th>3</th>\n",
       "      <td>88.726562</td>\n",
       "      <td>40.672225</td>\n",
       "      <td>0.600866</td>\n",
       "      <td>1.123492</td>\n",
       "      <td>1.178930</td>\n",
       "      <td>11.468720</td>\n",
       "      <td>14.269573</td>\n",
       "      <td>252.567306</td>\n",
       "      <td>0</td>\n",
       "    </tr>\n",
       "    <tr>\n",
       "      <th>4</th>\n",
       "      <td>93.570312</td>\n",
       "      <td>46.698114</td>\n",
       "      <td>0.531905</td>\n",
       "      <td>0.416721</td>\n",
       "      <td>1.636288</td>\n",
       "      <td>14.545074</td>\n",
       "      <td>10.621748</td>\n",
       "      <td>131.394004</td>\n",
       "      <td>0</td>\n",
       "    </tr>\n",
       "  </tbody>\n",
       "</table>\n",
       "</div>"
      ],
      "text/plain": [
       "   Mean of IP   sd of IP  Excess kurtosis of IP  Skewness of IP  \\\n",
       "0  102.507812  58.882430               0.465318       -0.515088   \n",
       "1  103.015625  39.341649               0.323328        1.051164   \n",
       "2  136.750000  57.178449              -0.068415       -0.636238   \n",
       "3   88.726562  40.672225               0.600866        1.123492   \n",
       "4   93.570312  46.698114               0.531905        0.416721   \n",
       "\n",
       "   Mean of  DM-SNR   sd of DM-SNR   Excess kurtosis of  DM-SNR   \\\n",
       "0          1.677258      14.860146                    10.576487   \n",
       "1          3.121237      21.744669                     7.735822   \n",
       "2          3.642977      20.959280                     6.896499   \n",
       "3          1.178930      11.468720                    14.269573   \n",
       "4          1.636288      14.545074                    10.621748   \n",
       "\n",
       "   Skewness of DM-SNR   Class HTRU   \n",
       "0           127.393580            0  \n",
       "1            63.171909            0  \n",
       "2            53.593661            0  \n",
       "3           252.567306            0  \n",
       "4           131.394004            0  "
      ]
     },
     "execution_count": 5,
     "metadata": {},
     "output_type": "execute_result"
    }
   ],
   "source": [
    "pulsars.head()"
   ]
  },
  {
   "cell_type": "code",
   "execution_count": 6,
   "id": "28e48493",
   "metadata": {},
   "outputs": [
    {
     "data": {
      "text/html": [
       "<div>\n",
       "<style scoped>\n",
       "    .dataframe tbody tr th:only-of-type {\n",
       "        vertical-align: middle;\n",
       "    }\n",
       "\n",
       "    .dataframe tbody tr th {\n",
       "        vertical-align: top;\n",
       "    }\n",
       "\n",
       "    .dataframe thead th {\n",
       "        text-align: right;\n",
       "    }\n",
       "</style>\n",
       "<table border=\"1\" class=\"dataframe\">\n",
       "  <thead>\n",
       "    <tr style=\"text-align: right;\">\n",
       "      <th></th>\n",
       "      <th>Mean of IP</th>\n",
       "      <th>sd of IP</th>\n",
       "      <th>Excess kurtosis of IP</th>\n",
       "      <th>Skewness of IP</th>\n",
       "      <th>Mean of  DM-SNR</th>\n",
       "      <th>sd of DM-SNR</th>\n",
       "      <th>Excess kurtosis of  DM-SNR</th>\n",
       "      <th>Skewness of DM-SNR</th>\n",
       "      <th>Class HTRU</th>\n",
       "    </tr>\n",
       "  </thead>\n",
       "  <tbody>\n",
       "    <tr>\n",
       "      <th>count</th>\n",
       "      <td>17897.000000</td>\n",
       "      <td>17897.000000</td>\n",
       "      <td>17897.000000</td>\n",
       "      <td>17897.000000</td>\n",
       "      <td>17897.000000</td>\n",
       "      <td>17897.000000</td>\n",
       "      <td>17897.000000</td>\n",
       "      <td>17897.000000</td>\n",
       "      <td>17897.00000</td>\n",
       "    </tr>\n",
       "    <tr>\n",
       "      <th>mean</th>\n",
       "      <td>111.078321</td>\n",
       "      <td>46.549021</td>\n",
       "      <td>0.477897</td>\n",
       "      <td>1.770417</td>\n",
       "      <td>12.614926</td>\n",
       "      <td>26.326918</td>\n",
       "      <td>8.303574</td>\n",
       "      <td>104.859419</td>\n",
       "      <td>0.09158</td>\n",
       "    </tr>\n",
       "    <tr>\n",
       "      <th>std</th>\n",
       "      <td>25.652705</td>\n",
       "      <td>6.843040</td>\n",
       "      <td>1.064056</td>\n",
       "      <td>6.168058</td>\n",
       "      <td>29.473637</td>\n",
       "      <td>19.471042</td>\n",
       "      <td>4.506217</td>\n",
       "      <td>106.517270</td>\n",
       "      <td>0.28844</td>\n",
       "    </tr>\n",
       "    <tr>\n",
       "      <th>min</th>\n",
       "      <td>5.812500</td>\n",
       "      <td>24.772042</td>\n",
       "      <td>-1.876011</td>\n",
       "      <td>-1.791886</td>\n",
       "      <td>0.213211</td>\n",
       "      <td>7.370432</td>\n",
       "      <td>-3.139270</td>\n",
       "      <td>-1.976976</td>\n",
       "      <td>0.00000</td>\n",
       "    </tr>\n",
       "    <tr>\n",
       "      <th>25%</th>\n",
       "      <td>100.929688</td>\n",
       "      <td>42.375426</td>\n",
       "      <td>0.027108</td>\n",
       "      <td>-0.188528</td>\n",
       "      <td>1.923077</td>\n",
       "      <td>14.437330</td>\n",
       "      <td>5.781485</td>\n",
       "      <td>34.957119</td>\n",
       "      <td>0.00000</td>\n",
       "    </tr>\n",
       "    <tr>\n",
       "      <th>50%</th>\n",
       "      <td>115.078125</td>\n",
       "      <td>46.946435</td>\n",
       "      <td>0.223241</td>\n",
       "      <td>0.198736</td>\n",
       "      <td>2.801839</td>\n",
       "      <td>18.459977</td>\n",
       "      <td>8.433872</td>\n",
       "      <td>83.068996</td>\n",
       "      <td>0.00000</td>\n",
       "    </tr>\n",
       "    <tr>\n",
       "      <th>75%</th>\n",
       "      <td>127.085938</td>\n",
       "      <td>51.022887</td>\n",
       "      <td>0.473349</td>\n",
       "      <td>0.928206</td>\n",
       "      <td>5.464883</td>\n",
       "      <td>28.428152</td>\n",
       "      <td>10.702973</td>\n",
       "      <td>139.310905</td>\n",
       "      <td>0.00000</td>\n",
       "    </tr>\n",
       "    <tr>\n",
       "      <th>max</th>\n",
       "      <td>192.617188</td>\n",
       "      <td>98.778911</td>\n",
       "      <td>8.069522</td>\n",
       "      <td>68.101622</td>\n",
       "      <td>223.392141</td>\n",
       "      <td>110.642211</td>\n",
       "      <td>34.539844</td>\n",
       "      <td>1191.000837</td>\n",
       "      <td>1.00000</td>\n",
       "    </tr>\n",
       "  </tbody>\n",
       "</table>\n",
       "</div>"
      ],
      "text/plain": [
       "         Mean of IP      sd of IP  Excess kurtosis of IP  Skewness of IP  \\\n",
       "count  17897.000000  17897.000000           17897.000000    17897.000000   \n",
       "mean     111.078321     46.549021               0.477897        1.770417   \n",
       "std       25.652705      6.843040               1.064056        6.168058   \n",
       "min        5.812500     24.772042              -1.876011       -1.791886   \n",
       "25%      100.929688     42.375426               0.027108       -0.188528   \n",
       "50%      115.078125     46.946435               0.223241        0.198736   \n",
       "75%      127.085938     51.022887               0.473349        0.928206   \n",
       "max      192.617188     98.778911               8.069522       68.101622   \n",
       "\n",
       "       Mean of  DM-SNR   sd of DM-SNR   Excess kurtosis of  DM-SNR   \\\n",
       "count      17897.000000   17897.000000                 17897.000000   \n",
       "mean          12.614926      26.326918                     8.303574   \n",
       "std           29.473637      19.471042                     4.506217   \n",
       "min            0.213211       7.370432                    -3.139270   \n",
       "25%            1.923077      14.437330                     5.781485   \n",
       "50%            2.801839      18.459977                     8.433872   \n",
       "75%            5.464883      28.428152                    10.702973   \n",
       "max          223.392141     110.642211                    34.539844   \n",
       "\n",
       "       Skewness of DM-SNR   Class HTRU   \n",
       "count         17897.000000  17897.00000  \n",
       "mean            104.859419      0.09158  \n",
       "std             106.517270      0.28844  \n",
       "min              -1.976976      0.00000  \n",
       "25%              34.957119      0.00000  \n",
       "50%              83.068996      0.00000  \n",
       "75%             139.310905      0.00000  \n",
       "max            1191.000837      1.00000  "
      ]
     },
     "execution_count": 6,
     "metadata": {},
     "output_type": "execute_result"
    }
   ],
   "source": [
    "# to have better undestanding at numeric data and its central tendency\n",
    "pulsars.describe()"
   ]
  },
  {
   "cell_type": "code",
   "execution_count": 7,
   "id": "4bdc0d7c",
   "metadata": {},
   "outputs": [
    {
     "name": "stdout",
     "output_type": "stream",
     "text": [
      "<class 'pandas.core.frame.DataFrame'>\n",
      "RangeIndex: 17897 entries, 0 to 17896\n",
      "Data columns (total 9 columns):\n",
      " #   Column                       Non-Null Count  Dtype  \n",
      "---  ------                       --------------  -----  \n",
      " 0   Mean of IP                   17897 non-null  float64\n",
      " 1   sd of IP                     17897 non-null  float64\n",
      " 2   Excess kurtosis of IP        17897 non-null  float64\n",
      " 3   Skewness of IP               17897 non-null  float64\n",
      " 4   Mean of  DM-SNR              17897 non-null  float64\n",
      " 5   sd of DM-SNR                 17897 non-null  float64\n",
      " 6   Excess kurtosis of  DM-SNR   17897 non-null  float64\n",
      " 7   Skewness of DM-SNR           17897 non-null  float64\n",
      " 8   Class HTRU                   17897 non-null  int64  \n",
      "dtypes: float64(8), int64(1)\n",
      "memory usage: 1.2 MB\n"
     ]
    }
   ],
   "source": [
    "#  check the data type and null counts\n",
    "pulsars.info()"
   ]
  },
  {
   "cell_type": "markdown",
   "id": "1ee82f5b",
   "metadata": {},
   "source": [
    "We will draw histogram to  visualize the distribution of each feature "
   ]
  },
  {
   "cell_type": "code",
   "execution_count": 8,
   "id": "45a6547b",
   "metadata": {
    "scrolled": false
   },
   "outputs": [
    {
     "data": {
      "image/png": "[encoded data removed]",
      "text/plain": [
       "<Figure size 432x288 with 1 Axes>"
      ]
     },
     "metadata": {
      "needs_background": "light"
     },
     "output_type": "display_data"
    },
    {
     "data": {
      "image/png": "[encoded data removed]",
      "text/plain": [
       "<Figure size 432x288 with 1 Axes>"
      ]
     },
     "metadata": {
      "needs_background": "light"
     },
     "output_type": "display_data"
    },
    {
     "data": {
      "image/png": "[encoded data removed]",
      "text/plain": [
       "<Figure size 432x288 with 1 Axes>"
      ]
     },
     "metadata": {
      "needs_background": "light"
     },
     "output_type": "display_data"
    },
    {
     "data": {
      "image/png": "[encoded data removed]",
      "text/plain": [
       "<Figure size 432x288 with 1 Axes>"
      ]
     },
     "metadata": {
      "needs_background": "light"
     },
     "output_type": "display_data"
    },
    {
     "data": {
      "image/png": "[encoded data removed]",
      "text/plain": [
       "<Figure size 432x288 with 1 Axes>"
      ]
     },
     "metadata": {
      "needs_background": "light"
     },
     "output_type": "display_data"
    },
    {
     "data": {
      "image/png": "[encoded data removed]",
      "text/plain": [
       "<Figure size 432x288 with 1 Axes>"
      ]
     },
     "metadata": {
      "needs_background": "light"
     },
     "output_type": "display_data"
    },
    {
     "data": {
      "image/png": "[encoded data removed]",
      "text/plain": [
       "<Figure size 432x288 with 1 Axes>"
      ]
     },
     "metadata": {
      "needs_background": "light"
     },
     "output_type": "display_data"
    },
    {
     "data": {
      "image/png": "[encoded data removed]",
      "text/plain": [
       "<Figure size 432x288 with 1 Axes>"
      ]
     },
     "metadata": {
      "needs_background": "light"
     },
     "output_type": "display_data"
    },
    {
     "data": {
      "image/png": "[encoded data removed]",
      "text/plain": [
       "<Figure size 432x288 with 1 Axes>"
      ]
     },
     "metadata": {
      "needs_background": "light"
     },
     "output_type": "display_data"
    }
   ],
   "source": [
    "for i in pulsars.columns:\n",
    "    plt.hist(pulsars[i])\n",
    "    plt.title(i)\n",
    "    plt.show()"
   ]
  },
  {
   "cell_type": "code",
   "execution_count": null,
   "id": "0164863b",
   "metadata": {},
   "outputs": [],
   "source": []
  },
  {
   "cell_type": "code",
   "execution_count": 48,
   "id": "a8e8109a",
   "metadata": {
    "scrolled": true
   },
   "outputs": [
    {
     "name": "stdout",
     "output_type": "stream",
     "text": [
      "                             Mean of IP  sd of IP  Excess kurtosis of IP  \\\n",
      "Mean of IP                     1.000000  0.547099              -0.873899   \n",
      "sd of IP                       0.547099  1.000000              -0.521418   \n",
      "Excess kurtosis of IP         -0.873899 -0.521418               1.000000   \n",
      "Skewness of IP                -0.738780 -0.539792               0.945730   \n",
      "Mean of  DM-SNR               -0.298832  0.006893               0.414362   \n",
      "sd of DM-SNR                  -0.307005 -0.047606               0.432873   \n",
      "Excess kurtosis of  DM-SNR     0.234345  0.029436              -0.341216   \n",
      "Skewness of DM-SNR             0.144057  0.027714              -0.214505   \n",
      "Class HTRU                    -0.673187 -0.363704               0.791592   \n",
      "\n",
      "                             Skewness of IP  Mean of  DM-SNR   sd of DM-SNR   \\\n",
      "Mean of IP                        -0.738780         -0.298832      -0.307005   \n",
      "sd of IP                          -0.539792          0.006893      -0.047606   \n",
      "Excess kurtosis of IP              0.945730          0.414362       0.432873   \n",
      "Skewness of IP                     1.000000          0.412052       0.415135   \n",
      "Mean of  DM-SNR                    0.412052          1.000000       0.796554   \n",
      "sd of DM-SNR                       0.415135          0.796554       1.000000   \n",
      "Excess kurtosis of  DM-SNR        -0.328846         -0.615974      -0.809791   \n",
      "Skewness of DM-SNR                -0.204790         -0.354276      -0.575809   \n",
      "Class HTRU                         0.709526          0.400873       0.491532   \n",
      "\n",
      "                             Excess kurtosis of  DM-SNR   Skewness of DM-SNR   \\\n",
      "Mean of IP                                      0.234345             0.144057   \n",
      "sd of IP                                        0.029436             0.027714   \n",
      "Excess kurtosis of IP                          -0.341216            -0.214505   \n",
      "Skewness of IP                                 -0.328846            -0.204790   \n",
      "Mean of  DM-SNR                                -0.615974            -0.354276   \n",
      "sd of DM-SNR                                   -0.809791            -0.575809   \n",
      "Excess kurtosis of  DM-SNR                      1.000000             0.923744   \n",
      "Skewness of DM-SNR                              0.923744             1.000000   \n",
      "Class HTRU                                     -0.390819            -0.259123   \n",
      "\n",
      "                             Class HTRU   \n",
      "Mean of IP                     -0.673187  \n",
      "sd of IP                       -0.363704  \n",
      "Excess kurtosis of IP           0.791592  \n",
      "Skewness of IP                  0.709526  \n",
      "Mean of  DM-SNR                 0.400873  \n",
      "sd of DM-SNR                    0.491532  \n",
      "Excess kurtosis of  DM-SNR     -0.390819  \n",
      "Skewness of DM-SNR             -0.259123  \n",
      "Class HTRU                      1.000000  \n"
     ]
    }
   ],
   "source": [
    "#  undersatnd the correlation between each feature\n",
    "df_num=pulsars[['Mean of IP','sd of IP','Excess kurtosis of IP'\n",
    "                ,'Skewness of IP','Mean of  DM-SNR ',\n",
    "                'sd of DM-SNR ','Excess kurtosis of  DM-SNR '\n",
    "                ,'Skewness of DM-SNR ','Class HTRU ']]\n",
    "print(df_num.corr())\n"
   ]
  },
  {
   "cell_type": "code",
   "execution_count": 49,
   "id": "6c4835df",
   "metadata": {},
   "outputs": [
    {
     "data": {
      "text/plain": [
       "<AxesSubplot:>"
      ]
     },
     "execution_count": 49,
     "metadata": {},
     "output_type": "execute_result"
    },
    {
     "data": {
      "image/png": "[encoded data removed]",
      "text/plain": [
       "<Figure size 432x288 with 2 Axes>"
      ]
     },
     "metadata": {
      "needs_background": "light"
     },
     "output_type": "display_data"
    }
   ],
   "source": [
    "# draw the heatmap for better visualization of correlation\n",
    "sns.heatmap(df_num.corr())"
   ]
  },
  {
   "cell_type": "code",
   "execution_count": 50,
   "id": "69f17182",
   "metadata": {},
   "outputs": [
    {
     "data": {
      "image/png": "[encoded data removed]",
      "text/plain": [
       "<Figure size 432x288 with 1 Axes>"
      ]
     },
     "metadata": {
      "needs_background": "light"
     },
     "output_type": "display_data"
    },
    {
     "data": {
      "image/png": "[encoded data removed]",
      "text/plain": [
       "<Figure size 432x288 with 1 Axes>"
      ]
     },
     "metadata": {
      "needs_background": "light"
     },
     "output_type": "display_data"
    },
    {
     "data": {
      "image/png": "[encoded data removed]",
      "text/plain": [
       "<Figure size 432x288 with 1 Axes>"
      ]
     },
     "metadata": {
      "needs_background": "light"
     },
     "output_type": "display_data"
    },
    {
     "data": {
      "image/png": "[encoded data removed]",
      "text/plain": [
       "<Figure size 432x288 with 1 Axes>"
      ]
     },
     "metadata": {
      "needs_background": "light"
     },
     "output_type": "display_data"
    },
    {
     "data": {
      "image/png": "[encoded data removed]",
      "text/plain": [
       "<Figure size 432x288 with 1 Axes>"
      ]
     },
     "metadata": {
      "needs_background": "light"
     },
     "output_type": "display_data"
    },
    {
     "data": {
      "image/png": "[encoded data removed]",
      "text/plain": [
       "<Figure size 432x288 with 1 Axes>"
      ]
     },
     "metadata": {
      "needs_background": "light"
     },
     "output_type": "display_data"
    },
    {
     "data": {
      "image/png": "[encoded data removed]",
      "text/plain": [
       "<Figure size 432x288 with 1 Axes>"
      ]
     },
     "metadata": {
      "needs_background": "light"
     },
     "output_type": "display_data"
    },
    {
     "data": {
      "image/png": "[encoded data removed]",
      "text/plain": [
       "<Figure size 432x288 with 1 Axes>"
      ]
     },
     "metadata": {
      "needs_background": "light"
     },
     "output_type": "display_data"
    },
    {
     "data": {
      "text/plain": [
       "<Figure size 432x288 with 0 Axes>"
      ]
     },
     "metadata": {},
     "output_type": "display_data"
    }
   ],
   "source": [
    "# draw the boxplot of each feature\n",
    "for i in range(pulsars.shape[1]-1):\n",
    "    sns.boxplot(x='Class HTRU ',y=pulsars.columns[i], data=pulsars)\n",
    " \n",
    "    plt.figure()"
   ]
  },
  {
   "cell_type": "markdown",
   "id": "3537c066",
   "metadata": {},
   "source": [
    "## Model Building\n",
    "This section we will briefy walkthrough each model and apply them to the dataset to see its overrall performance\n"
   ]
  },
  {
   "cell_type": "markdown",
   "id": "cc5a6869",
   "metadata": {},
   "source": [
    " ## Support vector machine\n",
    " For matter of convenient, the set of class label $y$ will be {-1,1} instead of {0,1}. Let each sample be represented by $<x^{i},y^{i}>$ where $x^{i}$ is in $R^{n}$. Suppose that there are  hyperplanes that can separate two class of training set without misclasification, our goal is finding the optimal hyperplane that maximizing the margin to the closest points on both side. .<br>\n",
    " Note that the equation of  hyperplane of dimension n is $w^{T}x+b$ where $w$ and $b$ are n-vector. From our previous assumption that hyperplane can nicely separate point into two classes, here points above the hyperplane ($w^{T}x+b$>0) will be label 1, and point below will be label -1. Then the result y will be map back to the original label. The distance of a point $x^{i}$ to that hyperplane is $$ \\frac{|w^{T}x^{i}+b|}{||w||}  $$. \n",
    " Assume that for each  hyperplane H that can linearly separate the training point, $\\hat{x}$ has the closest distance to H,denote by d. Then our goal is <br>\n",
    "   $$  max_{w} \\frac{|w^{T}\\hat{x}+b|}{||w||}$$\n",
    "   <br>\n",
    "  $$ s.t.  \\frac{|w^{T}x^{i}+b|}{||w||} =\\frac{y^{i}(w^{T}x^{i}+b)}{||w||} \\geq \\frac{|w^{T}\\hat{x}+b|}{||w||} \\; \\;  i=1,...n$$\n",
    "  By scale $w$ and $b$ with $|w^{T}\\hat{x}+b|$, we derive the equivalent optimization problem\n",
    " $$  max_{w} \\frac{1}{||w||}$$\n",
    "   <br>\n",
    "  $$ s.t. \\; \\;  y^{i}(w^{T}x^{i}+b) \\geq 1 \\; \\;  i=1,...n$$\n",
    "Since maximizing $||w||$ is the same as minimizing $\\frac{1}{||w||}$ or minimizing $\\frac{1}{||w||^2}$. We get a more pleasant optimization problem which can be solved by computer <br>\n",
    "$$  min_{w} \\frac{1}{2}||w||^2$$\n",
    "   <br>\n",
    "  $$ s.t. \\; \\;  y^{i}(w^{T}x^{i}+b) \\geq 1 \\; \\;  i=1,...n$$\n",
    "To solve the above problem more efficiently, we will look at the its dual form  (For more information of dual form and Lagrangnian see $^{[1][2]}$)\n",
    "\n",
    "Reformulate the problem above:\n",
    "$$   min_{w} \\frac{1}{2}||w||^2$$\n",
    "   <br>\n",
    "  $$ s.t. \\; \\; g_{i}(w)= 1-(y^{i}(w^{T}x^{i}+b) ) \\leq 0 \\; \\;  i=1,...n$$\n",
    "Define Lagrangian\n",
    "$$L(w,\\beta)_{\\beta \\geq0}=\\frac{1}{2}||w||^2+\\sum\\limits_{i=1}^{n}\\beta_{i}g_{i}(w)$$\n",
    "Denote feasible region $C$ which $w\\in C$ if  w sastified all constraints $g_{i}$. Then,note that\n",
    "\n",
    "$$  max \\;L(w,\\beta)_{\\beta \\geq0}=\\begin{equation}\n",
    "\\left\\{\n",
    "    \\begin{aligned}\n",
    "\\infty \\qquad \\text{if $w \\notin C$} \\\\\n",
    "\\frac{1}{2}||w||^2 \\, \\text{if $w \\in C$} \n",
    "    \\end{aligned}\n",
    "   \\right.\n",
    "\\end{equation}\n",
    "$$\n",
    "\n",
    "Then\n",
    "$$   min_{w} \\frac{1}{2}||w||^2 \\quad s.t. \\; \\; g_{i}(w) \\leq 0 \\; \\; = min_{w}\\; max_{\\beta}\\;L(w,\\beta)_{\\beta \\geq0}$$\n",
    "By minimax theorem\n",
    "$$ min_{w}\\; max_{\\beta}\\;L(w,\\beta)_{\\beta \\geq0} \\geq max_{\\beta}\\;min_{w}\\; L(w,\\beta)_{\\beta \\geq0} $$\n",
    "the problem $max_{\\beta}\\;min_{w}\\; L(w,\\beta)_{\\beta \\geq0} $ is the *dual problem*  and the original problem is called *primal problem*.The equality happen under certain condition:\n",
    "Suppose that $f$ and $g_{i}$ are convex, and there exist some w such that $g_{i}(w)<0$ for all i, then there exist $\\hat w$ which is solution to the primal problem, and $\\hat\\beta$ is the solution to the dual problem, and $$ min_{w}\\; max_{\\beta}\\;L(w,\\beta)_{\\beta \\geq0} = max_{\\beta}\\;min_{w}\\; L(w,\\beta)_{\\beta \\geq0}=L(\\hat w,\\hat\\beta) $$\n",
    "\n",
    "In case that the training set is non-separable, we modify the optimization problem\n",
    "\n",
    "$$  min_{w} \\frac{1}{2}||w||^2+C\\sum\\limits_{i=1}^{n}\\xi_{i}$$\n",
    "   <br>\n",
    "  $$ s.t. \\; \\;  y^{i}(w^{T}x^{i}+b) \\geq 1 -\\xi_{i}\\; \\;  i=1,...n$$\n",
    "  $$\\xi_{i}\\geq0$$\n",
    "Here. the margin is allowed to be less than 1, and C is the cost for each $\\xi_{i}$. The larger C means it is less forgivable on outliers, while smaller C means the opposite.\n",
    "Kernel trick is one of the important factor of SVM. When work with training dataset, it may be ineffective to separate them by hyperplane, which cause many misclassification. The problem could be solve if we move up to higher dimension by a mapping from $R^{N}\\rightarrow R^{M}$ for each sample vectors $x$ to $\\phi(x)$ . After solving for the hyperplane, it will be map back to $R^{N}$. For detail mathematic explaination, see $^{[1]}$\n",
    "\n",
    "\n",
    "[1]Ng,A..*Support Vector Machines*.https://see.stanford.edu/materials/aimlcs229/cs229-notes3.pdf.\n",
    "\n",
    "[2] Ghaoui,E.2012.Weak Duality.https://people.eecs.berkeley.edu/~elghaoui/Teaching/EE227A/lecture7.pdf"
   ]
  },
  {
   "cell_type": "code",
   "execution_count": 51,
   "id": "6c8be4f0",
   "metadata": {},
   "outputs": [],
   "source": [
    "# Split training and testing set\n",
    "X = pulsars.drop(['Class HTRU '], axis=1)\n",
    "\n",
    "y = pulsars['Class HTRU ']\n",
    "X_train, X_test, y_train, y_test = train_test_split(X, y, test_size = 0.2, random_state = 0)"
   ]
  },
  {
   "cell_type": "code",
   "execution_count": 52,
   "id": "904eedd5",
   "metadata": {},
   "outputs": [],
   "source": [
    "# Scale each sample's vector similar to KNN\n",
    "from sklearn.preprocessing import StandardScaler\n",
    "\n",
    "scaler = StandardScaler()\n",
    "\n",
    "X_train = scaler.fit_transform(X_train)\n",
    "\n",
    "X_test = scaler.transform(X_test)"
   ]
  },
  {
   "cell_type": "code",
   "execution_count": 53,
   "id": "09652e1d",
   "metadata": {},
   "outputs": [
    {
     "name": "stdout",
     "output_type": "stream",
     "text": [
      "Model accuracy score : 0.9799\n"
     ]
    }
   ],
   "source": [
    "from sklearn.svm import SVC\n",
    "\n",
    "\n",
    "# import metrics to compute accuracy\n",
    "from sklearn.metrics import accuracy_score\n",
    "# instantiate classifier with default hyperparameters\n",
    "svc=SVC() \n",
    "svc.fit(X_train,y_train)\n",
    "y_pred=svc.predict(X_test)\n",
    "print('Model accuracy score : {0:0.4f}'. format(accuracy_score(y_test, y_pred)))"
   ]
  },
  {
   "cell_type": "code",
   "execution_count": 54,
   "id": "b9462970",
   "metadata": {},
   "outputs": [
    {
     "name": "stdout",
     "output_type": "stream",
     "text": [
      "Confusion matrix\n",
      "\n",
      " [[3254   23]\n",
      " [  49  254]]\n"
     ]
    }
   ],
   "source": [
    "from sklearn.metrics import confusion_matrix\n",
    "from sklearn.metrics import classification_report,confusion_matrix\n",
    "cm = confusion_matrix(y_test, y_pred)\n",
    "\n",
    "print('Confusion matrix\\n\\n', cm)"
   ]
  },
  {
   "cell_type": "code",
   "execution_count": 55,
   "id": "01fc417e",
   "metadata": {},
   "outputs": [
    {
     "name": "stdout",
     "output_type": "stream",
     "text": [
      "Model accuracy score  and C=100.0 : 0.9799\n"
     ]
    }
   ],
   "source": [
    "# instantiate classifier with C=100\n",
    "linear_svc=SVC( C=100.0) \n",
    "\n",
    "\n",
    "# fit classifier to training set\n",
    "linear_svc.fit(X_train,y_train)\n",
    "\n",
    "\n",
    "# make predictions on test set\n",
    "y_pred_test=linear_svc.predict(X_test)\n",
    "\n",
    "\n",
    "# compute and print accuracy score\n",
    "print('Model accuracy score  and C=100.0 : {0:0.4f}'. format(accuracy_score(y_test, y_pred_test)))"
   ]
  },
  {
   "cell_type": "markdown",
   "id": "e07f11ed",
   "metadata": {},
   "source": [
    "\n",
    "\n",
    "### KNN \n",
    "Let each labeled examples in our dataset represented by $ <X,y> $ where $X$ is vector of n features and belong to $R^{n}$,$y$ is class which each example belong to. Here $y$ is either 1 for pulsars class and 0 for non-pulsars class.<br>\n",
    "Consider an example in test set which represented by $X_{0}=[x_{01},x_{02},...x_{0n}]$. Then we  will calculate the Euclide distance from   each $X_{i}=[x_{i1},x_{i2},...x_{in}]$ in training set to $X_{0}$: $d_{i}=\\sqrt{(x_{i1}-x_{01})^2+...+(x_{in}-x_{0n})^2}$. Then for parameter k of the algorithm, we will pick k samples that has closest distance to $X_{0}$, and the class label that dominate these k neighbors will be assign to $X_{0}$.\n",
    "<!-- $ \\sqrt{k} +  \\hat{Y} = \\hat{\\beta}_{0} + \\sum \\limits _{j=1} ^{p} X_{j}\\hat{\\beta}_{j}  $ -->\n",
    "Before calculating the distance, we need to normalize the dataset so that each feature contribute equally to the distance value\n",
    "\n"
   ]
  },
  {
   "cell_type": "code",
   "execution_count": 56,
   "id": "0e16778f",
   "metadata": {},
   "outputs": [],
   "source": [
    "# import library for normalize the data\n",
    "from sklearn.preprocessing import StandardScaler\n",
    "import numpy as np\n",
    "scaler = StandardScaler()\n",
    "scaler.fit(pulsars.drop('Class HTRU ',axis=1))\n",
    "scaled_features = scaler.transform(pulsars.drop('Class HTRU ',axis=1))"
   ]
  },
  {
   "cell_type": "code",
   "execution_count": 57,
   "id": "763c270b",
   "metadata": {},
   "outputs": [
    {
     "data": {
      "text/html": [
       "<div>\n",
       "<style scoped>\n",
       "    .dataframe tbody tr th:only-of-type {\n",
       "        vertical-align: middle;\n",
       "    }\n",
       "\n",
       "    .dataframe tbody tr th {\n",
       "        vertical-align: top;\n",
       "    }\n",
       "\n",
       "    .dataframe thead th {\n",
       "        text-align: right;\n",
       "    }\n",
       "</style>\n",
       "<table border=\"1\" class=\"dataframe\">\n",
       "  <thead>\n",
       "    <tr style=\"text-align: right;\">\n",
       "      <th></th>\n",
       "      <th>Mean of IP</th>\n",
       "      <th>sd of IP</th>\n",
       "      <th>Excess kurtosis of IP</th>\n",
       "      <th>Skewness of IP</th>\n",
       "      <th>Mean of  DM-SNR</th>\n",
       "      <th>sd of DM-SNR</th>\n",
       "      <th>Excess kurtosis of  DM-SNR</th>\n",
       "      <th>Skewness of DM-SNR</th>\n",
       "    </tr>\n",
       "  </thead>\n",
       "  <tbody>\n",
       "    <tr>\n",
       "      <th>0</th>\n",
       "      <td>-0.334107</td>\n",
       "      <td>1.802379</td>\n",
       "      <td>-0.011822</td>\n",
       "      <td>-0.370549</td>\n",
       "      <td>-0.371110</td>\n",
       "      <td>-0.588931</td>\n",
       "      <td>0.504409</td>\n",
       "      <td>0.211560</td>\n",
       "    </tr>\n",
       "    <tr>\n",
       "      <th>1</th>\n",
       "      <td>-0.314311</td>\n",
       "      <td>-1.053271</td>\n",
       "      <td>-0.145268</td>\n",
       "      <td>-0.116613</td>\n",
       "      <td>-0.322117</td>\n",
       "      <td>-0.235343</td>\n",
       "      <td>-0.125997</td>\n",
       "      <td>-0.391379</td>\n",
       "    </tr>\n",
       "    <tr>\n",
       "      <th>2</th>\n",
       "      <td>1.000768</td>\n",
       "      <td>1.553363</td>\n",
       "      <td>-0.513438</td>\n",
       "      <td>-0.390191</td>\n",
       "      <td>-0.304414</td>\n",
       "      <td>-0.275681</td>\n",
       "      <td>-0.312261</td>\n",
       "      <td>-0.481304</td>\n",
       "    </tr>\n",
       "    <tr>\n",
       "      <th>3</th>\n",
       "      <td>-0.871346</td>\n",
       "      <td>-0.858823</td>\n",
       "      <td>0.115570</td>\n",
       "      <td>-0.104886</td>\n",
       "      <td>-0.388018</td>\n",
       "      <td>-0.763113</td>\n",
       "      <td>1.323985</td>\n",
       "      <td>1.386742</td>\n",
       "    </tr>\n",
       "    <tr>\n",
       "      <th>4</th>\n",
       "      <td>-0.682521</td>\n",
       "      <td>0.021788</td>\n",
       "      <td>0.050758</td>\n",
       "      <td>-0.219475</td>\n",
       "      <td>-0.372501</td>\n",
       "      <td>-0.605113</td>\n",
       "      <td>0.514453</td>\n",
       "      <td>0.249118</td>\n",
       "    </tr>\n",
       "  </tbody>\n",
       "</table>\n",
       "</div>"
      ],
      "text/plain": [
       "   Mean of IP  sd of IP  Excess kurtosis of IP  Skewness of IP  \\\n",
       "0   -0.334107  1.802379              -0.011822       -0.370549   \n",
       "1   -0.314311 -1.053271              -0.145268       -0.116613   \n",
       "2    1.000768  1.553363              -0.513438       -0.390191   \n",
       "3   -0.871346 -0.858823               0.115570       -0.104886   \n",
       "4   -0.682521  0.021788               0.050758       -0.219475   \n",
       "\n",
       "   Mean of  DM-SNR   sd of DM-SNR   Excess kurtosis of  DM-SNR   \\\n",
       "0         -0.371110      -0.588931                     0.504409   \n",
       "1         -0.322117      -0.235343                    -0.125997   \n",
       "2         -0.304414      -0.275681                    -0.312261   \n",
       "3         -0.388018      -0.763113                     1.323985   \n",
       "4         -0.372501      -0.605113                     0.514453   \n",
       "\n",
       "   Skewness of DM-SNR   \n",
       "0             0.211560  \n",
       "1            -0.391379  \n",
       "2            -0.481304  \n",
       "3             1.386742  \n",
       "4             0.249118  "
      ]
     },
     "execution_count": 57,
     "metadata": {},
     "output_type": "execute_result"
    }
   ],
   "source": [
    "#  Visualize the dataset after scaling\n",
    "df_feat = pd.DataFrame(scaled_features,columns=pulsars.columns[:-1])\n",
    "df_feat.head()"
   ]
  },
  {
   "cell_type": "code",
   "execution_count": 58,
   "id": "cd66d2f1",
   "metadata": {},
   "outputs": [],
   "source": [
    "#  split dataset into training and testing\n",
    "from sklearn.model_selection import train_test_split\n",
    "X = df_feat\n",
    "y = pulsars['Class HTRU ']\n",
    "X_train, X_test, y_train, y_test = train_test_split(scaled_features,pulsars['Class HTRU '],\n",
    "                                                    test_size=0.50, random_state=1)"
   ]
  },
  {
   "cell_type": "code",
   "execution_count": 59,
   "id": "24028af5",
   "metadata": {},
   "outputs": [
    {
     "data": {
      "text/plain": [
       "KNeighborsClassifier(n_neighbors=1)"
      ]
     },
     "execution_count": 59,
     "metadata": {},
     "output_type": "execute_result"
    }
   ],
   "source": [
    "# Import library for KNN algorithm\n",
    "from sklearn.neighbors import KNeighborsClassifier\n",
    "knn = KNeighborsClassifier(n_neighbors=1)\n",
    "knn.fit(X_train,y_train)"
   ]
  },
  {
   "cell_type": "code",
   "execution_count": 60,
   "id": "b05051da",
   "metadata": {},
   "outputs": [],
   "source": [
    "# Predict the class of testing set\n",
    "pred = knn.predict(X_test)"
   ]
  },
  {
   "cell_type": "code",
   "execution_count": 61,
   "id": "2794b622",
   "metadata": {},
   "outputs": [
    {
     "name": "stdout",
     "output_type": "stream",
     "text": [
      "[[8008  116]\n",
      " [ 150  675]]\n",
      "              precision    recall  f1-score   support\n",
      "\n",
      "           0       0.98      0.99      0.98      8124\n",
      "           1       0.85      0.82      0.84       825\n",
      "\n",
      "    accuracy                           0.97      8949\n",
      "   macro avg       0.92      0.90      0.91      8949\n",
      "weighted avg       0.97      0.97      0.97      8949\n",
      "\n"
     ]
    }
   ],
   "source": [
    "# import classification report and confusion matrix \n",
    "from sklearn.metrics import classification_report,confusion_matrix\n",
    "conf_mat=confusion_matrix(y_test,pred)\n",
    "print(conf_mat)\n",
    "print(classification_report(y_test,pred))\n"
   ]
  },
  {
   "cell_type": "markdown",
   "id": "b4de8a24",
   "metadata": {},
   "source": [
    "Here, the average precision is 0.97 <br>\n",
    "Total instance of class 0 is 8124<br>\n",
    "Total instance of class 1 is 825<br>\n",
    "True negative is 8008<br>\n",
    "False positive is 116<br>\n",
    "False negative  is 150<br>\n",
    "True positive is 675 <br>"
   ]
  },
  {
   "cell_type": "code",
   "execution_count": 62,
   "id": "d735f3ad",
   "metadata": {},
   "outputs": [],
   "source": [
    "# We try different number of k to see how well each k behave for this dataset\n",
    "error_rate = []\n",
    "for i in range(1,20):\n",
    "    \n",
    "    knn = KNeighborsClassifier(n_neighbors=i)\n",
    "    knn.fit(X_train,y_train)\n",
    "    pred_i = knn.predict(X_test)\n",
    "    error_rate.append(np.mean(pred_i != y_test))\n"
   ]
  },
  {
   "cell_type": "code",
   "execution_count": 63,
   "id": "54448a50",
   "metadata": {},
   "outputs": [
    {
     "data": {
      "text/plain": [
       "Text(0, 0.5, 'Error (misclassification) Rate')"
      ]
     },
     "execution_count": 63,
     "metadata": {},
     "output_type": "execute_result"
    },
    {
     "data": {
      "image/png": "[encoded data removed]",
      "text/plain": [
       "<Figure size 720x432 with 1 Axes>"
      ]
     },
     "metadata": {
      "needs_background": "light"
     },
     "output_type": "display_data"
    }
   ],
   "source": [
    "#Visualize the error rate for k from 1 to 20\n",
    "plt.figure(figsize=(10,6))\n",
    "plt.plot(range(1,20),error_rate,color='green', linestyle='dashed', marker='o',\n",
    "         markerfacecolor='red', markersize=8)\n",
    "plt.title(' K Value vs Error rate', fontsize=20)\n",
    "plt.xlabel('K',fontsize=16)\n",
    "plt.ylabel('Error (misclassification) Rate',fontsize=16)"
   ]
  },
  {
   "cell_type": "markdown",
   "id": "c1145d74",
   "metadata": {},
   "source": [
    "Here it can be observed that the error rate is stable at 0.023 when $2<k<19$. Thus the KNN algorithm perform relatively good for this dataset"
   ]
  },
  {
   "cell_type": "markdown",
   "id": "ab6b30b8",
   "metadata": {},
   "source": [
    "## Descision tree and random forest\n",
    "Decision tree is data structure that employ divide and conquer strategy.Base on certain criteria (Entropiq, Gini,...), the algorithm will find the best split at each stage.\n",
    "<!-- For more information of Entropiq and Gini, which are those of the most popular splitting criteria, visit $^{[1][2]}$\n",
    "[1] -->"
   ]
  },
  {
   "cell_type": "code",
   "execution_count": 71,
   "id": "b8762267",
   "metadata": {},
   "outputs": [],
   "source": [
    "# splitting dataset into training and testing set\n",
    "from sklearn.model_selection import train_test_split\n",
    "X = pulsars.drop('Class HTRU ',axis=1)\n",
    "y = pulsars['Class HTRU ']\n",
    "X_train, X_test, y_train, y_test = train_test_split(X, y)"
   ]
  },
  {
   "cell_type": "code",
   "execution_count": 85,
   "id": "c20b453b",
   "metadata": {},
   "outputs": [],
   "source": [
    "# Import library , fit the training into the model and predict\n",
    "from sklearn.tree import DecisionTreeClassifier\n",
    "from sklearn import tree\n",
    "dtree = DecisionTreeClassifier(criterion='gini',max_depth=None)\n",
    "dtree.fit(X_train,y_train)\n",
    "predictions = dtree.predict(X_test)\n",
    "\n",
    "\n",
    "\n"
   ]
  },
  {
   "cell_type": "code",
   "execution_count": 66,
   "id": "69761b54",
   "metadata": {},
   "outputs": [
    {
     "name": "stdout",
     "output_type": "stream",
     "text": [
      "              precision    recall  f1-score   support\n",
      "\n",
      "           0       0.98      0.98      0.98      4854\n",
      "           1       0.82      0.84      0.83       516\n",
      "\n",
      "    accuracy                           0.97      5370\n",
      "   macro avg       0.90      0.91      0.91      5370\n",
      "weighted avg       0.97      0.97      0.97      5370\n",
      "\n"
     ]
    }
   ],
   "source": [
    "\n",
    "# print out classification report \n",
    "from sklearn.metrics import classification_report,confusion_matrix\n",
    "print(classification_report(y_test,predictions))"
   ]
  },
  {
   "cell_type": "code",
   "execution_count": 67,
   "id": "b993fded",
   "metadata": {},
   "outputs": [
    {
     "name": "stdout",
     "output_type": "stream",
     "text": [
      "[[4761   93]\n",
      " [  82  434]]\n",
      "Accuracy of prediction: 0.967\n"
     ]
    }
   ],
   "source": [
    "# print out confusion matrix\n",
    "cm=confusion_matrix(y_test,predictions)\n",
    "print(cm)\n",
    "print (\"Accuracy of prediction:\",round((cm[0,0]+cm[1,1])/cm.sum(),3))"
   ]
  },
  {
   "cell_type": "code",
   "execution_count": null,
   "id": "ceb5bdf7",
   "metadata": {},
   "outputs": [],
   "source": []
  },
  {
   "cell_type": "code",
   "execution_count": 68,
   "id": "7d912a7f",
   "metadata": {},
   "outputs": [
    {
     "data": {
      "text/plain": [
       "RandomForestClassifier(n_estimators=600)"
      ]
     },
     "execution_count": 68,
     "metadata": {},
     "output_type": "execute_result"
    }
   ],
   "source": [
    "# RandomForest classifier is an ensemble of large number of individual decision trees, which predicting base on most vote \n",
    "# Import Random forest library , initialize model with 600 decision trees and fit the training data\n",
    "from sklearn.ensemble import RandomForestClassifier\n",
    "rfc = RandomForestClassifier(n_estimators=600)\n",
    "rfc.fit(X_train, y_train)"
   ]
  },
  {
   "cell_type": "code",
   "execution_count": 69,
   "id": "b07d60b4",
   "metadata": {},
   "outputs": [],
   "source": [
    "# Try build random forest classifier with different number of estimators(tree)\n",
    "nsimu = 21\n",
    "accuracy=[0]*nsimu\n",
    "ntree = [0]*nsimu\n",
    "for i in range(1,nsimu):\n",
    "    rfc = RandomForestClassifier(n_estimators=i*5,min_samples_split=10,max_depth=None,criterion='gini')\n",
    "    rfc.fit(X_train, y_train)\n",
    "    rfc_pred = rfc.predict(X_test)\n",
    "    cm = confusion_matrix(y_test,rfc_pred)\n",
    "\n",
    "    accuracy[i] = (cm[0,0]+cm[1,1])/cm.sum()\n",
    "    ntree[i]=i*5\n"
   ]
  },
  {
   "cell_type": "code",
   "execution_count": 70,
   "id": "c3e26414",
   "metadata": {},
   "outputs": [
    {
     "data": {
      "text/plain": [
       "Text(0, 0.5, 'Prediction accuracy from confusion matrix')"
      ]
     },
     "execution_count": 70,
     "metadata": {},
     "output_type": "execute_result"
    },
    {
     "data": {
      "image/png": "[encoded data removed]",
      "text/plain": [
       "<Figure size 720x432 with 1 Axes>"
      ]
     },
     "metadata": {
      "needs_background": "light"
     },
     "output_type": "display_data"
    }
   ],
   "source": [
    "# Visualize the performance varying across  models with different number of estimators\n",
    "plt.figure(figsize=(10,6))\n",
    "plt.scatter(x=ntree[1:nsimu],y=accuracy[1:nsimu],s=60,c='red')\n",
    "plt.title(\"Number of trees in the Random Forest vs. prediction accuracy (criterion: 'gini')\", fontsize=18)\n",
    "plt.xlabel(\"Number of trees\", fontsize=15)\n",
    "plt.ylabel(\"Prediction accuracy from confusion matrix\", fontsize=15)"
   ]
  },
  {
   "cell_type": "code",
   "execution_count": null,
   "id": "9893a859",
   "metadata": {},
   "outputs": [],
   "source": []
  }
 ],
 "metadata": {
  "kernelspec": {
   "display_name": "Python 3 (ipykernel)",
   "language": "python",
   "name": "python3"
  },
  "language_info": {
   "codemirror_mode": {
    "name": "ipython",
    "version": 3
   },
   "file_extension": ".py",
   "mimetype": "text/x-python",
   "name": "python",
   "nbconvert_exporter": "python",
   "pygments_lexer": "ipython3",
   "version": "3.9.7"
  }
 },
 "nbformat": 4,
 "nbformat_minor": 5
}
